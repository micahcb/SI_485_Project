{
 "cells": [
  {
   "cell_type": "code",
   "execution_count": 3,
   "metadata": {},
   "outputs": [],
   "source": [
    "# for get the pdf files or url\n",
    "import requests\n",
    " \n",
    "# for tree traversal scraping in webpage\n",
    "from bs4 import BeautifulSoup\n",
    " \n",
    "# for input and output operations\n",
    "import io\n",
    " \n",
    "# For getting information about the pdfs\n",
    "from PyPDF2 import PdfFileReader"
   ]
  },
  {
   "cell_type": "code",
   "execution_count": 2,
   "metadata": {},
   "outputs": [
    {
     "name": "stdout",
     "output_type": "stream",
     "text": [
      "Collecting PyPDF2\n",
      "  Downloading pypdf2-3.0.1-py3-none-any.whl (232 kB)\n",
      "\u001b[2K     \u001b[90m━━━━━━━━━━━━━━━━━━━━━━━━━━━━━━━━━━━━━━━\u001b[0m \u001b[32m232.6/232.6 kB\u001b[0m \u001b[31m1.3 MB/s\u001b[0m eta \u001b[36m0:00:00\u001b[0ma \u001b[36m0:00:01\u001b[0m\n",
      "\u001b[?25hInstalling collected packages: PyPDF2\n",
      "Successfully installed PyPDF2-3.0.1\n",
      "\n",
      "\u001b[1m[\u001b[0m\u001b[34;49mnotice\u001b[0m\u001b[1;39;49m]\u001b[0m\u001b[39;49m A new release of pip is available: \u001b[0m\u001b[31;49m23.3.1\u001b[0m\u001b[39;49m -> \u001b[0m\u001b[32;49m23.3.2\u001b[0m\n",
      "\u001b[1m[\u001b[0m\u001b[34;49mnotice\u001b[0m\u001b[1;39;49m]\u001b[0m\u001b[39;49m To update, run: \u001b[0m\u001b[32;49mpip install --upgrade pip\u001b[0m\n"
     ]
    }
   ],
   "source": [
    "!pip install PyPDF2"
   ]
  },
  {
   "cell_type": "code",
   "execution_count": 4,
   "metadata": {},
   "outputs": [],
   "source": [
    "url = \"https://www.michigan.gov/dtmb/procurement/contractconnect/contract-list\"\n",
    " \n",
    "# get the url from requests get method\n",
    "read = requests.get(url)\n",
    " \n",
    "# full html content \n",
    "html_content = read.content\n",
    " \n",
    "# Parse the html content \n",
    "soup = BeautifulSoup(html_content, \"html.parser\")"
   ]
  },
  {
   "cell_type": "code",
   "execution_count": 5,
   "metadata": {},
   "outputs": [],
   "source": [
    "# created an empty list for putting the pdfs \n",
    "list_of_pdf = set()\n",
    "\n",
    "# accessed the first p tag in the html \n",
    "l = soup.find('p') \n",
    "\n",
    "# accessed all the anchors tag from given p tag\n",
    "p = l.find_all('a') \n",
    "\n",
    "# iterate through p for getting all the href links\n",
    "for link in p: \n",
    "\t\n",
    "\t# original html links\n",
    "\tprint(\"links: \", link.get('href'))\n",
    "\tprint(\"\\n\")\n",
    "\t\n",
    "\t# converting the extension from .html to .pdf\n",
    "\tpdf_link = (link.get('href')[:-5]) + \".pdf\"\n",
    "\t\n",
    "\t# converted to .pdf\n",
    "\tprint(\"converted pdf links: \", pdf_link)\n",
    "\tprint(\"\\n\")\n",
    "\t\n",
    "\t# added all the pdf links to set\n",
    "\tlist_of_pdf.add(pdf_link)\n"
   ]
  },
  {
   "cell_type": "code",
   "execution_count": null,
   "metadata": {},
   "outputs": [],
   "source": []
  }
 ],
 "metadata": {
  "kernelspec": {
   "display_name": "my-env",
   "language": "python",
   "name": "python3"
  },
  "language_info": {
   "codemirror_mode": {
    "name": "ipython",
    "version": 3
   },
   "file_extension": ".py",
   "mimetype": "text/x-python",
   "name": "python",
   "nbconvert_exporter": "python",
   "pygments_lexer": "ipython3",
   "version": "3.10.1"
  }
 },
 "nbformat": 4,
 "nbformat_minor": 2
}
